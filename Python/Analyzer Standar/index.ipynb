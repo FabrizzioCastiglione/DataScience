{
 "cells": [
  {
   "cell_type": "markdown",
   "metadata": {},
   "source": [
    "# Modelos de Prediccion de Demanda"
   ]
  },
  {
   "cell_type": "markdown",
   "metadata": {},
   "source": [
    "## Índice\n",
    "\n",
    "- [Librerias](#Librerias)\n",
    "- [Manipulacion de Datos](#Manipulacion-de-Datos)\n",
    "- [Importar Datos](#Importar-Datos)\n",
    "- [Analisis Descriptivo](#Analisis-Descriptivo)\n",
    "- [Seleccion de Data](#Seleccion-de-Data)\n",
    "    - [Obtencion de datos de entrenamiento](#Obtencion-de-datos-de-entrenamiento)\n",
    "    - [Obtencion de datos de validacion](#Obtencion-de-datos-de-validacion)\n",
    "    - [Obtencion de datos de prueba](#Obtencion-de-datos-de-prueba)\n",
    "- [Analisis de Datos](#Analisis-de-datos)\n",
    "    - [Correlacion General](#Correlacion-General)\n",
    "    - [Correlacion Especifica de Demanda](#Correlacion-Especifica-de-Demanda)\n",
    "- [Metricas de Evaluacion](#Metricas-de-Evaluacion)\n",
    "    - [KPI](#KPI)\n",
    "    - [Error Absoluto](#Error-Absoluto)\n",
    "- [Creacion de Modelos](#Creacion-de-Modelos)\n",
    "    - [Creacion de matrices](#Creacion-de-matrices)\n",
    "        \n",
    "    - [Entrenamiento de Modelos](#Entrenamiento-de-Modelos)\n",
    "- [Informe de Modelos](#Informe-de-Modelos)\n",
    "    - [Todas las variables](#Todas-las-variables)"
   ]
  },
  {
   "cell_type": "markdown",
   "metadata": {},
   "source": [
    "# Librerias"
   ]
  },
  {
   "cell_type": "code",
   "execution_count": null,
   "metadata": {
    "vscode": {
     "languageId": "plaintext"
    }
   },
   "outputs": [],
   "source": [
    "import numpy as np\n",
    "import pandas as pd\n",
    "import seaborn as sns\n",
    "import tensorflow as tf\n",
    "import statsmodels.api as sm\n",
    "from tabulate import tabulate\n",
    "from datetime import datetime\n",
    "import matplotlib.pyplot as ax\n",
    "import matplotlib.pyplot as plt\n",
    "from sklearn.preprocessing import StandardScaler\n",
    "from sklearn.linear_model import LinearRegression\n",
    "from matplotlib.ticker import (AutoMinorLocator, MultipleLocator)\n",
    "from sklearn.metrics import r2_score, max_error, mean_squared_error, mean_absolute_error"
   ]
  },
  {
   "cell_type": "markdown",
   "metadata": {},
   "source": [
    "# Funciones"
   ]
  },
  {
   "cell_type": "markdown",
   "metadata": {},
   "source": [
    "scaler = StandardScaler()\n",
    "\n",
    "class Transformar:\n",
    "    def __init__(self, matriz):\n",
    "        self.matriz = np.array(matriz)\n",
    "\n",
    "    def normalizar(self):\n",
    "        # Reshape the data if it is one-dimensional\n",
    "        if len(self.matriz.shape) == 1:\n",
    "            self.matriz = self.matriz.reshape(-1, 1)\n",
    "        self.matriz_normalizada = scaler.fit_transform(self.matriz)\n",
    "        return self.matriz_normalizada\n",
    "\n",
    "    def desnormalizar(self):\n",
    "        if len(self.matriz.shape) == 1:\n",
    "            self.matriz = self.matriz.reshape(-1, 1)\n",
    "        self.matriz_desnormalizada = scaler.inverse_transform(self.matriz).flatten()\n",
    "        return self.matriz_desnormalizada\n",
    "    \n",
    "    def parametros(self):\n",
    "        return scaler.mean , scaler.scale"
   ]
  },
  {
   "cell_type": "markdown",
   "metadata": {},
   "source": [
    "# Manipulacion de Datos"
   ]
  },
  {
   "cell_type": "code",
   "execution_count": null,
   "metadata": {
    "vscode": {
     "languageId": "plaintext"
    }
   },
   "outputs": [],
   "source": [
    "data = pd.read_csv(r\"data/dataset.csv\")\n",
    "df = pd.DataFrame(data)\n",
    "\n",
    "df['Fecha'] = pd.to_datetime(df['Fecha'])\n",
    "df['Year'] = df['Fecha'].dt.year.astype(int)\n",
    "df['Month'] = df['Fecha'].dt.month.astype(int)\n",
    "df['Month Day'] = df['Fecha'].dt.day.astype(int)\n",
    "df['Weekday'] = df['Fecha'].dt.weekday.astype(int)\n",
    "df['Yearday'] = df['Fecha'].dt.dayofyear.astype(int)\n",
    "df = df.sort_values(by='Fecha')\n",
    "df"
   ]
  },
  {
   "cell_type": "markdown",
   "metadata": {},
   "source": [
    "## Analisis Descriptivo"
   ]
  },
  {
   "cell_type": "code",
   "execution_count": null,
   "metadata": {
    "vscode": {
     "languageId": "plaintext"
    }
   },
   "outputs": [],
   "source": [
    "print(\"\\nTabla Cabezera:\")\n",
    "print(tabulate(df.head(), headers='keys', tablefmt='pretty'))\n",
    "\n",
    "print(\"\\nTabla Descriptiva:\")\n",
    "print(tabulate(df.describe(), headers='keys', tablefmt='pretty'))\n",
    "\n",
    "print(\"\\nTabla Datos Duplicados:\")\n",
    "duplicados = df.duplicated()\n",
    "print(tabulate(df[duplicados], headers='keys', tablefmt='pretty'))\n",
    "\n",
    "print(\"\\nTabla de Informacion:\")\n",
    "print(tabulate(df.info(), headers='keys', tablefmt='pretty'))"
   ]
  },
  {
   "cell_type": "markdown",
   "metadata": {},
   "source": [
    "#### Creacion de matrices de entrenamiento, validacion y prueba"
   ]
  },
  {
   "cell_type": "code",
   "execution_count": null,
   "metadata": {
    "vscode": {
     "languageId": "plaintext"
    }
   },
   "outputs": [],
   "source": []
  },
  {
   "cell_type": "markdown",
   "metadata": {},
   "source": [
    "## Analisis de Datos"
   ]
  },
  {
   "cell_type": "code",
   "execution_count": null,
   "metadata": {
    "vscode": {
     "languageId": "plaintext"
    }
   },
   "outputs": [],
   "source": [
    "fig, ax = plt.subplots(1,1,figsize=(20, 10))\n",
    "plt.rcParams.update({'font.size': 23})\n",
    "\n",
    "tiempo = np.arange(0,len(Demanda_t0),1)/24\n",
    "\n",
    "# Set axis ranges; by default this will put major ticks every 25.\n",
    "ax.set_xlim(-100,1850)\n",
    "ax.set_ylim(0,13000)\n",
    "\n",
    "# Change major ticks to show every 20.\n",
    "ax.xaxis.set_major_locator(MultipleLocator(200))\n",
    "ax.yaxis.set_major_locator(MultipleLocator(1000))\n",
    "\n",
    "# Change minor ticks to show every 5. (20/4 = 5)\n",
    "ax.xaxis.set_minor_locator(AutoMinorLocator(5))\n",
    "ax.yaxis.set_minor_locator(AutoMinorLocator(5))\n",
    "\n",
    "# Turn grid on for both major and minor ticks and style minor slightly\n",
    "# differently.\n",
    "ax.grid(which='major', color='#CCCCCC', linestyle='--')\n",
    "ax.grid(which='minor', color='#CCCCCC', linestyle=':')\n",
    "\n",
    "ax.plot(tiempo,Demanda_t0,color='b')\n",
    "ax.set_xlabel('Tiempo [Horas]\\n' r'$(a)$')\n",
    "ax.set_ylabel('Demanda [MW]')\n",
    "# ax.set_title('ARIMAX prediccion de tiempo de 15 minutos',style = \"italic\",fontsize=19)\n",
    "ax.legend([r'$ P_{real} $',r'$ P_{prediccion} $'],ncol=2,loc='upper right',fontsize=15,fancybox=True, framealpha=0.5)\n",
    "plt.tight_layout()"
   ]
  },
  {
   "cell_type": "code",
   "execution_count": null,
   "metadata": {
    "vscode": {
     "languageId": "plaintext"
    }
   },
   "outputs": [],
   "source": [
    "fig, ax = plt.subplots(1,1,figsize=(20, 10))\n",
    "plt.rcParams.update({'font.size': 23})\n",
    "\n",
    "tiempo = np.arange(0,len(Demanda_t0),1)/24\n",
    "\n",
    "# Set axis ranges; by default this will put major ticks every 25.\n",
    "ax.set_xlim(0,168)\n",
    "ax.set_ylim(0,13000)\n",
    "\n",
    "# Change major ticks to show every 20.\n",
    "ax.xaxis.set_major_locator(MultipleLocator(20))\n",
    "ax.yaxis.set_major_locator(MultipleLocator(1000))\n",
    "\n",
    "# Change minor ticks to show every 5. (20/4 = 5)\n",
    "ax.xaxis.set_minor_locator(AutoMinorLocator(5))\n",
    "ax.yaxis.set_minor_locator(AutoMinorLocator(5))\n",
    "\n",
    "# Turn grid on for both major and minor ticks and style minor slightly\n",
    "# differently.\n",
    "ax.grid(which='major', color='#CCCCCC', linestyle='--')\n",
    "ax.grid(which='minor', color='#CCCCCC', linestyle=':')\n",
    "\n",
    "ax.plot(tiempo,Demanda_t0,color='b')\n",
    "ax.set_xlabel('Tiempo [Horas]\\n')\n",
    "ax.set_ylabel('Demanda [MW]')\n",
    "# ax.set_title('ARIMAX prediccion de tiempo de 15 minutos',style = \"italic\",fontsize=19)\n",
    "ax.legend([r'$ P_{real} $',r'$ P_{prediccion} $'],ncol=2,loc='upper right',fontsize=15,fancybox=True, framealpha=0.5)\n",
    "plt.tight_layout()"
   ]
  },
  {
   "cell_type": "markdown",
   "metadata": {},
   "source": [
    "## Correlacion General"
   ]
  },
  {
   "cell_type": "code",
   "execution_count": null,
   "metadata": {
    "vscode": {
     "languageId": "plaintext"
    }
   },
   "outputs": [],
   "source": [
    "corr_matrix = df.corr(method=\"pearson\")\n",
    "\n",
    "# Display the correlation matrix with a heatmap\n",
    "fig, ax = plt.subplots(nrows=1, ncols=1, figsize=(35, 25)) \n",
    "\n",
    "sns.heatmap((corr_matrix),\n",
    "            annot=True,\n",
    "            annot_kws={'size': 6})  "
   ]
  },
  {
   "cell_type": "code",
   "execution_count": null,
   "metadata": {
    "vscode": {
     "languageId": "plaintext"
    }
   },
   "outputs": [],
   "source": [
    "# Suponiendo que df es tu DataFrame\n",
    "corr_matrix = df.corr(method=\"pearson\")\n",
    "\n",
    "\n",
    "first_row = corr_matrix.iloc[[0]]\n",
    "fig, ax = plt.subplots(figsize=(40, 5))\n",
    "\n",
    "sns.heatmap(abs(first_row),\n",
    "            annot=True,\n",
    "            annot_kws={'size': 14})  \n",
    "\n",
    "plt.title('Correlación de las variables con respecto a la demanda actual') \n",
    "plt.show()"
   ]
  },
  {
   "cell_type": "markdown",
   "metadata": {},
   "source": [
    "## Metricas de Evaluacion"
   ]
  },
  {
   "cell_type": "markdown",
   "metadata": {},
   "source": [
    "## KPI"
   ]
  },
  {
   "cell_type": "code",
   "execution_count": null,
   "metadata": {
    "vscode": {
     "languageId": "plaintext"
    }
   },
   "outputs": [],
   "source": [
    "def R2(y_true, y_pred):\n",
    "    return r2_score(y_true, y_pred)\n",
    "\n",
    "def ErrorAbsoluto(y_real,y_pred):\n",
    "    return abs(y_real-y_pred)\n",
    "\n",
    "def ErrorMaximo(y_true, y_pred):\n",
    "    return max_error(y_true, y_pred)\n",
    "\n",
    "def MAE(y_true, y_pred):\n",
    "    return mean_absolute_error(y_true, y_pred)\n",
    "\n",
    "def MSE(y_true, y_pred):\n",
    "    return mean_squared_error(y_true, y_pred)\n",
    "\n",
    "def MAPE(y_true, y_pred):\n",
    "    mape = np.mean(np.abs((y_true - y_pred) / y_true)) * 100\n",
    "    return mape"
   ]
  },
  {
   "cell_type": "code",
   "execution_count": null,
   "metadata": {
    "vscode": {
     "languageId": "plaintext"
    }
   },
   "outputs": [],
   "source": [
    "def KPI(y_val,y_pred):\n",
    "    R2_value = R2(y_val,y_pred)\n",
    "    ErrorMax_value = ErrorMaximo(y_val,y_pred)\n",
    "    MAE_value = MAE(y_val,y_pred)\n",
    "    MSE_value = MSE(y_val,y_pred)\n",
    "    MAPE_value = MAPE(y_val,y_pred)\n",
    "\n",
    "    # Datos para la tabla\n",
    "    data = [\n",
    "        [\"Métrica\",\"R2\",\"Error Max\",\"MAE\",\"MSE\",\"MAPE\"],\n",
    "        [\"Valor\", f\"{R2_value:.4f}\",f\"{ErrorMax_value:.4f}\",f\"{MAE_value:.4f}\", f\"{MSE_value:.4f}\",f\"{MAPE_value:.4f}%\"]\n",
    "    ]\n",
    "\n",
    "    table_title = \"Key Performance Indicator - KPI\"\n",
    "    table = tabulate(data, headers=\"firstrow\", tablefmt=\"grid\", numalign=\"center\")\n",
    "    title_centered = f\"{' ' * ((len(table.splitlines()[0]) - len(table_title)) // 2)}{table_title}\"\n",
    "    print(title_centered)\n",
    "    return print(table)"
   ]
  },
  {
   "cell_type": "markdown",
   "metadata": {},
   "source": [
    "## Creacion de Graficos"
   ]
  },
  {
   "cell_type": "code",
   "execution_count": null,
   "metadata": {
    "vscode": {
     "languageId": "plaintext"
    }
   },
   "outputs": [],
   "source": [
    "def FigGen(y_real,y_pred):\n",
    "    tiempo = np.arange(0,len(y_pred),1)\n",
    "    fig, ax = plt.subplots(1,1,figsize=(20, 10))\n",
    "    plt.rcParams.update({'font.size': 23})\n",
    "\n",
    "    # Set axis ranges; by default this will put major ticks every 25.\n",
    "    ax.set_xlim(0,len(y_real[:168]))\n",
    "    ax.set_ylim(min(y_pred),max(y_pred))\n",
    "\n",
    "    # Change major ticks to show every 20.\n",
    "    ax.xaxis.set_major_locator(MultipleLocator(200))\n",
    "    ax.yaxis.set_major_locator(MultipleLocator(1000))\n",
    "\n",
    "    # Change minor ticks to show every 5. (20/4 = 5)\n",
    "    ax.xaxis.set_minor_locator(AutoMinorLocator(5))\n",
    "    ax.yaxis.set_minor_locator(AutoMinorLocator(5))\n",
    "\n",
    "    # Turn grid on for both major and minor ticks and style minor slightly\n",
    "    # differently.\n",
    "    ax.grid(which='major', color='#CCCCCC', linestyle='--')\n",
    "    ax.grid(which='minor', color='#CCCCCC', linestyle=':')\n",
    "\n",
    "    ax.plot(tiempo,y_real,color='b')\n",
    "    ax.plot(tiempo,y_pred,color='r',marker = \"o\", markersize = 5)\n",
    "    ax.set_xlabel('Tiempo [Horas]\\n')\n",
    "    ax.set_ylabel('Demanda [MW]')\n",
    "    # ax.set_title('ARIMAX prediccion de tiempo de 15 minutos',style = \"italic\",fontsize=19)\n",
    "    ax.legend([r'$ D_{real} $',r'$ D_{prediccion} $'],ncol=2,loc='upper right',fontsize=15,fancybox=True, framealpha=0.5)\n",
    "    plt.tight_layout()"
   ]
  },
  {
   "cell_type": "markdown",
   "metadata": {},
   "source": [
    "## Error Absoluto"
   ]
  },
  {
   "cell_type": "code",
   "execution_count": null,
   "metadata": {
    "vscode": {
     "languageId": "plaintext"
    }
   },
   "outputs": [],
   "source": [
    "def ErrorAbs(y_val,y_pred):\n",
    "    z = ErrorAbsoluto(y_val,y_pred)\n",
    "    tiempo = np.arange(0,len(z),1)/24\n",
    "\n",
    "    fig, ax = plt.subplots(1,1,figsize=(20, 10))\n",
    "    plt.rcParams.update({'font.size': 23})\n",
    "    \n",
    "    # Set axis ranges; by default this will put major ticks every 25.\n",
    "    ax.set_xlim(-20,820)\n",
    "    ax.set_ylim(0,3000)\n",
    "\n",
    "    # Change major ticks to show every 20.\n",
    "    ax.xaxis.set_major_locator(MultipleLocator(100))\n",
    "    ax.yaxis.set_major_locator(MultipleLocator(500))\n",
    "\n",
    "    # Change minor ticks to show every 5. (20/4 = 5)\n",
    "    ax.xaxis.set_minor_locator(AutoMinorLocator(5))\n",
    "    ax.yaxis.set_minor_locator(AutoMinorLocator(5))\n",
    "\n",
    "    # Turn grid on for both major and minor ticks and style minor slightly\n",
    "    # differently.\n",
    "    ax.grid(which='major', color='#CCCCCC', linestyle='--')\n",
    "    ax.grid(which='minor', color='#CCCCCC', linestyle=':')\n",
    "\n",
    "    ax.plot(tiempo,z,color='b')\n",
    "    ax.set_xlabel('Tiempo [Horas]\\n')\n",
    "    ax.set_ylabel('Demanda [MW]')\n",
    "    # ax.set_title('ARIMAX prediccion de tiempo de 15 minutos',style = \"italic\",fontsize=19)\n",
    "    ax.legend([r'$ D_{errror} $'],ncol=2,loc='upper right',fontsize=15,fancybox=True, framealpha=0.5)\n",
    "    return plt.tight_layout()"
   ]
  },
  {
   "cell_type": "markdown",
   "metadata": {},
   "source": [
    "# Creacion de modelos"
   ]
  },
  {
   "cell_type": "markdown",
   "metadata": {},
   "source": [
    "## Creacion de matrices"
   ]
  },
  {
   "cell_type": "markdown",
   "metadata": {},
   "source": [
    "### Todas las variables"
   ]
  },
  {
   "cell_type": "code",
   "execution_count": null,
   "metadata": {
    "vscode": {
     "languageId": "plaintext"
    }
   },
   "outputs": [],
   "source": []
  },
  {
   "cell_type": "markdown",
   "metadata": {},
   "source": [
    "## Entrenamiento y Analisis de Modelo Estandar (Regresion Lineal)"
   ]
  },
  {
   "cell_type": "code",
   "execution_count": null,
   "metadata": {
    "vscode": {
     "languageId": "plaintext"
    }
   },
   "outputs": [],
   "source": [
    "forecast = LinearRegression()\n",
    "\n",
    "forecast.fit(DeM, Demanda_t0)\n",
    "y_pred2 = forecast.predict(val_DeM)"
   ]
  },
  {
   "cell_type": "code",
   "execution_count": null,
   "metadata": {
    "vscode": {
     "languageId": "plaintext"
    }
   },
   "outputs": [],
   "source": [
    "#Regresion Lineal\n",
    "\n",
    "KPI(val_Demanda_t0,y_pred2)\n",
    "FigGen(val_Demanda_t0,y_pred2)\n",
    "FigEsp(val_Demanda_t0,y_pred2)\n",
    "ErrorAbs(val_Demanda_t0,y_pred2)"
   ]
  },
  {
   "cell_type": "markdown",
   "metadata": {},
   "source": [
    "# Informe de Modelos"
   ]
  },
  {
   "cell_type": "code",
   "execution_count": null,
   "metadata": {
    "vscode": {
     "languageId": "plaintext"
    }
   },
   "outputs": [],
   "source": [
    "# Informe de Modelos"
   ]
  }
 ],
 "metadata": {
  "language_info": {
   "name": "python"
  }
 },
 "nbformat": 4,
 "nbformat_minor": 2
}
