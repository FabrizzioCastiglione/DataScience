{
  "nbformat": 4,
  "nbformat_minor": 0,
  "metadata": {
    "colab": {
      "provenance": [],
      "authorship_tag": "ABX9TyNQ06AbJCUDvjKfTTtSzUzU",
      "include_colab_link": true
    },
    "kernelspec": {
      "name": "python3",
      "display_name": "Python 3"
    },
    "language_info": {
      "name": "python"
    }
  },
  "cells": [
    {
      "cell_type": "markdown",
      "metadata": {
        "id": "view-in-github",
        "colab_type": "text"
      },
      "source": [
        "<a href=\"https://colab.research.google.com/github/FabrizzioCastiglione/DataScience/blob/main/Display_of_data_Python.ipynb\" target=\"_parent\"><img src=\"https://colab.research.google.com/assets/colab-badge.svg\" alt=\"Open In Colab\"/></a>"
      ]
    },
    {
      "cell_type": "code",
      "execution_count": null,
      "metadata": {
        "id": "zSFLVNBrVX98"
      },
      "outputs": [],
      "source": [
        "import matplotlib.pyplot as plt\n",
        "from matplotlib.ticker import (AutoMinorLocator, MultipleLocator)\n",
        "metros1 = np.arange(0,len(auxpresion2),1)/180\n",
        "\n",
        "fig, ax = plt.subplots(2,1,figsize=(25,20))\n",
        "plt.rcParams.update({'font.size': 23})\n",
        "\n",
        "# Set axis ranges; by default this will put major ticks every 25.\n",
        "ax[0].set_xlim(-500/180, 46105/180+5)\n",
        "ax[0].set_ylim(5.2, 6.4)\n",
        "\n",
        "# Change major ticks to show every 20.\n",
        "ax[0].xaxis.set_major_locator(MultipleLocator(10))\n",
        "ax[0].yaxis.set_major_locator(MultipleLocator(0.2))\n",
        "\n",
        "# Change minor ticks to show every 5. (20/4 = 5)\n",
        "ax[0].xaxis.set_minor_locator(AutoMinorLocator(5))\n",
        "ax[0].yaxis.set_minor_locator(AutoMinorLocator(5))\n",
        "\n",
        "# Turn grid on for both major and minor ticks and style minor slightly\n",
        "# differently.\n",
        "ax[0].grid(which='major', color='#CCCCCC', linestyle='--')\n",
        "ax[0].grid(which='minor', color='#CCCCCC', linestyle=':')\n",
        "\n",
        "ax[0].plot(metros1,auxpresion2,color='b')\n",
        "ax[0].plot(tiempo6,forecast6,color = 'r',linestyle=':')\n",
        "ax[0].plot(metros1[18000:18002],[-1,30],color=\"black\")\n",
        "\n",
        "\n",
        "ax[0].set_title('Modelo (f) por ARIMAX con prediccion de tiempo de 15 minutos',style = \"italic\",fontsize=23)\n",
        "ax[0].set_ylabel('Presion [Bar]')\n",
        "ax[0].set_xlabel('\\n'r'$(a)$')\n",
        "ax[0].legend([r'$ P_{real} $',r'$ P_{prediccion} $',r'$ F_{uga} $'],ncol=3,loc='upper right',fontsize=23,fancybox=True, framealpha=0.5)\n",
        "\n",
        "\n",
        "# Set axis ranges; by default this will put major ticks every 25.\n",
        "ax[1].set_xlim(-500/180, 46105/180+5)\n",
        "ax[1].set_ylim(0, 0.3)\n",
        "\n",
        "# Change major ticks to show every 20.\n",
        "ax[1].xaxis.set_major_locator(MultipleLocator(10))\n",
        "ax[1].yaxis.set_major_locator(MultipleLocator(0.05))\n",
        "\n",
        "# Change minor ticks to show every 5. (20/4 = 5)\n",
        "ax[1].xaxis.set_minor_locator(AutoMinorLocator(4))\n",
        "ax[1].yaxis.set_minor_locator(AutoMinorLocator(4))\n",
        "\n",
        "\n",
        "# Turn grid on for both major and minor ticks and style minor slightly\n",
        "# differently.\n",
        "ax[1].grid(which='major', color='#CCCCCC', linestyle='--')\n",
        "ax[1].grid(which='minor', color='#CCCCCC', linestyle=':')\n",
        "\n",
        "ax[1].plot(tiempoforecast6,errorforecast6,color='b')\n",
        "ax[1].plot(tiempoforecast6[:len(detecforecast6)]+45/180,detecforecast6,color='r',linewidth='3',linestyle='-')\n",
        "ax[1].plot(metros1[18000:18002],[-1,30],color=\"black\")\n",
        "\n",
        "\n",
        "\n",
        "ax[1].set_title('Modelo (f) por ARIMAX con prediccion de tiempo de 15 minutos',style = \"italic\",fontsize=23)\n",
        "ax[1].set_ylabel('Presion [Bar]')\n",
        "ax[1].set_xlabel('Tiempo [Horas]\\n' r'$(b)$')\n",
        "ax[1].legend([r'$ R_{abs} $',r'$ RMSE $',r'$ F_{uga} $'],ncol=3,loc='upper right',fontsize=23,fancybox=True, framealpha=0.5)\n",
        "plt.tight_layout()"
      ]
    }
  ]
}
